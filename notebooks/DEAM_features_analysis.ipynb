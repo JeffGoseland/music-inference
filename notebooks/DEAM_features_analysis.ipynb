{
 "cells": [
  {
   "cell_type": "markdown",
   "metadata": {},
   "source": [
    "# DEAM Data Analysis\n",
    "\n",
    "Simple notebook to load and explore DEAM dataset."
   ]
  },
  {
   "cell_type": "code",
   "execution_count": null,
   "metadata": {},
   "outputs": [],
   "source": [
    "import pandas as pd\n",
    "\n",
    "# Load the consolidated data\n",
    "features_df = pd.read_csv('../data/processed/deam_features_consolidated.csv')\n",
    "annotations_df = pd.read_csv('../data/processed/deam_annotations_consolidated.csv')\n",
    "\n",
    "print(\"=== DATASET SUMMARY ===\")\n",
    "print(f\"Features data: {features_df.shape[0]:,} rows, {features_df.shape[1]} columns\")\n",
    "print(f\"Annotations data: {annotations_df.shape[0]:,} rows, {annotations_df.shape[1]} columns\")\n",
    "print(f\"\\nFeatures data shape: {features_df.shape}\")\n",
    "print(f\"Annotations data shape: {annotations_df.shape}\")"
   ]
  },
  {
   "cell_type": "code",
   "execution_count": null,
   "metadata": {},
   "outputs": [],
   "source": [
    "# Show first 5 rows of features data\n",
    "print(\"=== FEATURES DATA - First 5 Rows ===\")\n",
    "print(f\"Number of rows: {features_df.shape[0]:,}\")\n",
    "print(f\"Number of columns: {features_df.shape[1]}\")\n",
    "features_df.head(5)"
   ]
  },
  {
   "cell_type": "code",
   "execution_count": null,
   "metadata": {},
   "outputs": [],
   "source": [
    "# Show first 5 rows of annotations data\n",
    "print(\"=== ANNOTATIONS DATA - First 5 Rows ===\")\n",
    "print(f\"Number of rows: {annotations_df.shape[0]:,}\")\n",
    "print(f\"Number of columns: {annotations_df.shape[1]}\")\n",
    "annotations_df.head(5)"
   ]
  }
 ],
 "metadata": {
  "kernelspec": {
   "display_name": "base",
   "language": "python",
   "name": "python3"
  },
  "language_info": {
   "codemirror_mode": {
    "name": "ipython",
    "version": 3
   },
   "file_extension": ".py",
   "mimetype": "text/x-python",
   "name": "python",
   "nbconvert_exporter": "python",
   "pygments_lexer": "ipython3",
   "version": "3.12.2"
  }
 },
 "nbformat": 4,
 "nbformat_minor": 4
}
