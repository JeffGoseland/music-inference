{
 "cells": [
  {
   "cell_type": "markdown",
   "id": "06e24149",
   "metadata": {},
   "source": []
  }
 ],
 "metadata": {
  "language_info": {
   "name": "python"
  }
 },
 "nbformat": 4,
 "nbformat_minor": 5
}
