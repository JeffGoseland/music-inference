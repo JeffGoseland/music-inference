{
 "cells": [
  {
   "cell_type": "markdown",
   "id": "b9f57830",
   "metadata": {},
   "source": [
    "#### Initial Test Workbook "
   ]
  },
  {
   "cell_type": "code",
   "execution_count": 2,
   "id": "c3e9cb4d",
   "metadata": {},
   "outputs": [
    {
     "name": "stdout",
     "output_type": "stream",
     "text": [
      "�� Jupyter is running!\n",
      "Python version: 3.12.2 | packaged by Anaconda, Inc. | (main, Feb 27 2024, 12:57:28) [Clang 14.0.6 ]\n",
      "Current working directory: /Volumes/Dockcase/music_code/notebooks\n"
     ]
    }
   ],
   "source": [
    "print(\"�� Jupyter is running!\")\n",
    "print(f\"Python version: {__import__('sys').version}\")\n",
    "print(f\"Current working directory: {__import__('os').getcwd()}\")"
   ]
  }
 ],
 "metadata": {
  "kernelspec": {
   "display_name": "base",
   "language": "python",
   "name": "python3"
  },
  "language_info": {
   "codemirror_mode": {
    "name": "ipython",
    "version": 3
   },
   "file_extension": ".py",
   "mimetype": "text/x-python",
   "name": "python",
   "nbconvert_exporter": "python",
   "pygments_lexer": "ipython3",
   "version": "3.12.2"
  }
 },
 "nbformat": 4,
 "nbformat_minor": 5
}
